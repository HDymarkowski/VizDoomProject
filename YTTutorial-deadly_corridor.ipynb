{
 "cells": [
  {
   "cell_type": "code",
   "execution_count": 5,
   "metadata": {},
   "outputs": [],
   "source": [
    "# For ! installing stuff\n",
    "\n",
    "! jt -t oceans16"
   ]
  },
  {
   "cell_type": "code",
   "execution_count": 10,
   "metadata": {},
   "outputs": [],
   "source": [
    "# PART 2 : Converting to a Gym Enviroment\n",
    "\n",
    "from sre_parse import State\n",
    "from vizdoom import *\n",
    "from gym import Env # Import envoriment base class from OpenAI Gym\n",
    "from gym.spaces import Discrete, Box # Import gym spaces\n",
    "import cv2 # Import opencv to greyscale stuff\n",
    "import numpy as np\n",
    "from matplotlib import pyplot as plt\n",
    "\n",
    "\n",
    "\n",
    "# Imports for part 3\n",
    "import torch # pyTorch\n",
    "import os # for file navigation\n",
    "from stable_baselines3.common.callbacks import BaseCallback # import callback class from stablebaselines 3\n",
    "from stable_baselines3.common import env_checker # For checking if enviroment is in correct format\n",
    "import stable_baselines3\n",
    "\n",
    "# Imports for Part 4\n",
    "from stable_baselines3 import PPO # Import PPO for training\n"
   ]
  },
  {
   "cell_type": "code",
   "execution_count": 11,
   "metadata": {},
   "outputs": [],
   "source": [
    "# Create VizDOOM OpenAI Gym Enviroment\n",
    "class VizDoomGym(Env):\n",
    "\n",
    "    def __init__(self, render = False):\n",
    "\n",
    "\n",
    "        super().__init__() # Inherit from \"Env\" class ???\n",
    "        # TODO: Learn more about OpenAI Gym\n",
    "\n",
    "        # Set up game\n",
    "        self.game = vizdoom.DoomGame() # TODO: IDK if \"vizdoom.\" does anything\n",
    "        self.game.load_config('ViZDoom/scenarios/defend_the_center.cfg')\n",
    "\n",
    "       # Render frame logic\n",
    "       # Rendering takes a lot of computing and we don't always want to see shit cause we don't care\n",
    "        if(render == False):\n",
    "            self.game.set_window_visible(False) # Don't pop up that window - we don't want to see it\n",
    "        else:\n",
    "            self.game.set_window_visible(True) # Show us the window\n",
    "\n",
    "        # Start game after we know whether to render or not\n",
    "        self.game.init()\n",
    "\n",
    "        # Set up action space and observation space\n",
    "        # TODO: I don't really get what these are\n",
    "        self.observation_space = Box(low = 0, high = 255, shape = (100, 160, 1), dtype=np.uint8)\n",
    "        self.action_space = Discrete(3) # 3 actions we can take\n",
    "\n",
    " \n",
    "\n",
    "    def step(self, action): # How we take a step in the enviroment\n",
    "\n",
    "        # Specify action and take step\n",
    "        actions = np.identity(3) # 3 actions, represented as [1,0,0], [0,1,0], [0,0,1]\n",
    "        reward = self.game.make_action(actions[action], 4) # Make the action adn get the reward, 4 = frameskip parameter\n",
    "\n",
    "        # Get other stuff we need to return\n",
    "        if (self.game.get_state()):\n",
    "            state = self.game.get_state().screen_buffer # The next frame of the game\n",
    "            state = self.greyscale(state) # Does the grayscaling and resizing of the image, implemented in greyscale() method\n",
    "            ammo = self.game.get_state().game_variables[0]\n",
    "            info = ammo \n",
    "        else: # This logic in case we are finished and there is no next frame - would throw an error otherwise\n",
    "            # Just returns zeroes for shit\n",
    "            state = np.zeros(self.observation_space.shape)\n",
    "            info = 0\n",
    "\n",
    "        info = {\"info\":info}\n",
    "\n",
    "        done = self.game.is_episode_finished() # Whether or not the thing is finished\n",
    "\n",
    "        return state, reward, done, info\n",
    "\n",
    "    def render(): # Predifined in Vizdoom but needed to be openAI superclass or smth\n",
    "        pass\n",
    "\n",
    "    def reset(self): # What happens when we start a new game\n",
    "        self.game.new_episode() # Make a new game\n",
    "        state = self.game.get_state().screen_buffer # Next frame\n",
    "\n",
    "        return self.greyscale(state) # Return next frame, greyscaled\n",
    "\n",
    "    def greyscale(self, observation): # Greyscale and resize the game frame, get rid of the bottom bit too\n",
    "        # Applied in step() and reset()\n",
    "        # Gets rid of color channel i.e. the 3\n",
    "        # TODO: Maybe figure out how this works\n",
    "        gray = cv2.cvtColor(np.moveaxis(observation, 0, -1), cv2.COLOR_BGR2GRAY) # Making shit gray - idk how this works\n",
    "\n",
    "        # Compresses frame down ???\n",
    "        resize = cv2.resize(gray, (160, 100), interpolation = cv2.INTER_CUBIC) # Reiszes image and scales it down - so we have more pixels to process\n",
    "        state = np.reshape(resize, (100, 160, 1)) # \n",
    "\n",
    "        return state\n",
    "\n",
    "    def close(self): # Close down the game so it's not floating\n",
    "        self.game.close()\n",
    "\n",
    "# Enviroment is now set up"
   ]
  },
  {
   "cell_type": "code",
   "execution_count": 12,
   "metadata": {},
   "outputs": [],
   "source": [
    "# TUTORIAL 3\n",
    "\n",
    "# Setup callback\n",
    "\n",
    "# Standard training and logging callback\n",
    "# Used for saving the model in case shit goes wrong\n",
    "class TrainAndLoggingCallback(BaseCallback):\n",
    "\n",
    "    def __init__(self, check_freq, save_path, verbose = 1):\n",
    "        super(TrainAndLoggingCallback, self).__init__(verbose)\n",
    "        self.check_freq = check_freq\n",
    "        self.save_path = save_path\n",
    "\n",
    "    def _init_callback(self):\n",
    "        if self.save_path is not None:\n",
    "            os.makedirs(self.save_path, exist_ok = True)\n",
    "\n",
    "    def _on_step(self):\n",
    "        if self.n_calls % self.check_freq == 0:\n",
    "            model_path = os.path.join(self.save_path, 'best_model_{}'.format(self.n_calls))\n",
    "            self.model.save(model_path)\n",
    "\n",
    "        return True\n",
    "\n",
    "\n",
    "# Directories for saving and logging shit\n",
    "CHECKPOINT_DIR = './train/train_defend' # Checkpoint directory for saving trained reinforcement learning models\n",
    "LOG_DIR = './logs/log_defend' # \n",
    "\n",
    "# Create instance of train and logging callback\n",
    "\n",
    "callback = TrainAndLoggingCallback(check_freq=10000, save_path=CHECKPOINT_DIR)\n",
    "# check_freq = 10000 means that after every 10000 steps of training our model we're going to save a version of those pyTorch weights for our reinforcement learning agent (can be re-loaded)\n"
   ]
  },
  {
   "cell_type": "code",
   "execution_count": 17,
   "metadata": {},
   "outputs": [
    {
     "name": "stdout",
     "output_type": "stream",
     "text": [
      "Using cpu device\n",
      "Wrapping the env with a `Monitor` wrapper\n",
      "Wrapping the env in a DummyVecEnv.\n",
      "Wrapping the env in a VecTransposeImage.\n"
     ]
    }
   ],
   "source": [
    "# Tutorial 4 - Train the RL Model\n",
    "\n",
    "\n",
    "env = VizDoomGym(render = False)\n",
    "\n",
    "model = PPO('CnnPolicy', env, tensorboard_log=LOG_DIR, verbose=1, learning_rate=0.0001, n_steps=4096)\n",
    "# Upped n-steps as scenario is more complex\n",
    "# increase for both more complex and longer-running enviroments and drop learning rate\n",
    "\n",
    "# CnnPolicy as we are sending in an image\n",
    "# env passed through\n",
    "# LOG_DIR used for logging\n",
    "# Verbose means thaat we're going to have info appearing as we train\n",
    "# learning_rate can be increased\n",
    "# n_steps defines batch size for model. 256 = 256 sets of observations, actiosn, log probabililties and values will be stored in the buffer for one iteration\n",
    "#   > for basic is 300 so we use 256 (don't use whole max for game, just below)\n",
    "\n"
   ]
  },
  {
   "cell_type": "code",
   "execution_count": 14,
   "metadata": {},
   "outputs": [],
   "source": [
    "# Enviroment checker\n",
    "\n",
    "env_checker.check_env(env) # Runs with no errors if env is all good"
   ]
  },
  {
   "cell_type": "code",
   "execution_count": null,
   "metadata": {},
   "outputs": [
    {
     "name": "stdout",
     "output_type": "stream",
     "text": [
      "Logging to ./logs/log_defend\\PPO_2\n",
      "---------------------------------\n",
      "| rollout/           |          |\n",
      "|    ep_len_mean     | 79.9     |\n",
      "|    ep_rew_mean     | 0.255    |\n",
      "| time/              |          |\n",
      "|    fps             | 27       |\n",
      "|    iterations      | 1        |\n",
      "|    time_elapsed    | 148      |\n",
      "|    total_timesteps | 4096     |\n",
      "---------------------------------\n",
      "-----------------------------------------\n",
      "| rollout/                |             |\n",
      "|    ep_len_mean          | 85.1        |\n",
      "|    ep_rew_mean          | 0.542       |\n",
      "| time/                   |             |\n",
      "|    fps                  | 19          |\n",
      "|    iterations           | 2           |\n",
      "|    time_elapsed         | 424         |\n",
      "|    total_timesteps      | 8192        |\n",
      "| train/                  |             |\n",
      "|    approx_kl            | 0.010780221 |\n",
      "|    clip_fraction        | 0.125       |\n",
      "|    clip_range           | 0.2         |\n",
      "|    entropy_loss         | -1.09       |\n",
      "|    explained_variance   | 0.0161      |\n",
      "|    learning_rate        | 0.0001      |\n",
      "|    loss                 | 0.0211      |\n",
      "|    n_updates            | 10          |\n",
      "|    policy_gradient_loss | -0.00991    |\n",
      "|    value_loss           | 0.112       |\n",
      "-----------------------------------------\n",
      "-----------------------------------------\n",
      "| rollout/                |             |\n",
      "|    ep_len_mean          | 94.2        |\n",
      "|    ep_rew_mean          | 1.24        |\n",
      "| time/                   |             |\n",
      "|    fps                  | 17          |\n",
      "|    iterations           | 3           |\n",
      "|    time_elapsed         | 705         |\n",
      "|    total_timesteps      | 12288       |\n",
      "| train/                  |             |\n",
      "|    approx_kl            | 0.013177885 |\n",
      "|    clip_fraction        | 0.207       |\n",
      "|    clip_range           | 0.2         |\n",
      "|    entropy_loss         | -1.06       |\n",
      "|    explained_variance   | 0.358       |\n",
      "|    learning_rate        | 0.0001      |\n",
      "|    loss                 | 0.0142      |\n",
      "|    n_updates            | 20          |\n",
      "|    policy_gradient_loss | -0.0211     |\n",
      "|    value_loss           | 0.13        |\n",
      "-----------------------------------------\n"
     ]
    }
   ],
   "source": [
    "# Runs the PPO training model\n",
    "\n",
    "model.learn(total_timesteps=100_000, callback=callback )\n",
    "\n",
    "# Get tensorboard graphs with (in ppo training folder) \"tensorboard --logrid=.\"\n",
    "# He explains tensorboard graphs at 1:42\n",
    "\n",
    "# Agent is now trained"
   ]
  },
  {
   "cell_type": "code",
   "execution_count": 6,
   "metadata": {},
   "outputs": [],
   "source": [
    "# Tutorial 5 - Testing the Agent\n",
    "import time\n",
    "from stable_baselines3.common.evaluation import evaluate_policy"
   ]
  },
  {
   "cell_type": "code",
   "execution_count": 8,
   "metadata": {},
   "outputs": [
    {
     "name": "stdout",
     "output_type": "stream",
     "text": [
      "-1.0\n"
     ]
    }
   ],
   "source": [
    "model.load('./train/train_defend/best_model_70000') # Reload model from disk\n",
    "##PPO.load() works too\n",
    "\n",
    "env = VizDoomGym(render = True)\n",
    "mean_reward, _ = evaluate_policy(model, env, n_eval_episodes = 10)\n",
    "# \"_\" is used when something you don't care about is returned\n",
    "# pass in model, enviroment and amount of episodes we want to evaluate the policy for\n",
    "\n",
    "print(mean_reward)"
   ]
  },
  {
   "cell_type": "code",
   "execution_count": 26,
   "metadata": {},
   "outputs": [
    {
     "ename": "ViZDoomIsNotRunningException",
     "evalue": "Controlled ViZDoom instance is not running or not ready.",
     "output_type": "error",
     "traceback": [
      "\u001b[1;31m---------------------------------------------------------------------------\u001b[0m",
      "\u001b[1;31mViZDoomIsNotRunningException\u001b[0m              Traceback (most recent call last)",
      "\u001b[1;32m<ipython-input-26-543977f8f7dd>\u001b[0m in \u001b[0;36m<module>\u001b[1;34m\u001b[0m\n\u001b[0;32m      2\u001b[0m \u001b[1;33m\u001b[0m\u001b[0m\n\u001b[0;32m      3\u001b[0m \u001b[1;32mfor\u001b[0m \u001b[0mepisode\u001b[0m \u001b[1;32min\u001b[0m \u001b[0mrange\u001b[0m\u001b[1;33m(\u001b[0m\u001b[1;36m5\u001b[0m\u001b[1;33m)\u001b[0m\u001b[1;33m:\u001b[0m \u001b[1;31m# 5 games\u001b[0m\u001b[1;33m\u001b[0m\u001b[1;33m\u001b[0m\u001b[0m\n\u001b[1;32m----> 4\u001b[1;33m     \u001b[0mobs\u001b[0m \u001b[1;33m=\u001b[0m \u001b[0menv\u001b[0m\u001b[1;33m.\u001b[0m\u001b[0mreset\u001b[0m\u001b[1;33m(\u001b[0m\u001b[1;33m)\u001b[0m \u001b[1;31m# reset enviroment, store game frame in \"observations\" variable\u001b[0m\u001b[1;33m\u001b[0m\u001b[1;33m\u001b[0m\u001b[0m\n\u001b[0m\u001b[0;32m      5\u001b[0m     \u001b[0mdone\u001b[0m \u001b[1;33m=\u001b[0m \u001b[1;32mFalse\u001b[0m\u001b[1;33m\u001b[0m\u001b[1;33m\u001b[0m\u001b[0m\n\u001b[0;32m      6\u001b[0m     \u001b[0mtotal_reward\u001b[0m\u001b[1;33m=\u001b[0m \u001b[1;36m0\u001b[0m\u001b[1;33m\u001b[0m\u001b[1;33m\u001b[0m\u001b[0m\n",
      "\u001b[1;32m<ipython-input-2-f588f84353c4>\u001b[0m in \u001b[0;36mreset\u001b[1;34m(self)\u001b[0m\n\u001b[0;32m     56\u001b[0m \u001b[1;33m\u001b[0m\u001b[0m\n\u001b[0;32m     57\u001b[0m     \u001b[1;32mdef\u001b[0m \u001b[0mreset\u001b[0m\u001b[1;33m(\u001b[0m\u001b[0mself\u001b[0m\u001b[1;33m)\u001b[0m\u001b[1;33m:\u001b[0m \u001b[1;31m# What happens when we start a new game\u001b[0m\u001b[1;33m\u001b[0m\u001b[1;33m\u001b[0m\u001b[0m\n\u001b[1;32m---> 58\u001b[1;33m         \u001b[0mself\u001b[0m\u001b[1;33m.\u001b[0m\u001b[0mgame\u001b[0m\u001b[1;33m.\u001b[0m\u001b[0mnew_episode\u001b[0m\u001b[1;33m(\u001b[0m\u001b[1;33m)\u001b[0m \u001b[1;31m# Make a new game\u001b[0m\u001b[1;33m\u001b[0m\u001b[1;33m\u001b[0m\u001b[0m\n\u001b[0m\u001b[0;32m     59\u001b[0m         \u001b[0mstate\u001b[0m \u001b[1;33m=\u001b[0m \u001b[0mself\u001b[0m\u001b[1;33m.\u001b[0m\u001b[0mgame\u001b[0m\u001b[1;33m.\u001b[0m\u001b[0mget_state\u001b[0m\u001b[1;33m(\u001b[0m\u001b[1;33m)\u001b[0m\u001b[1;33m.\u001b[0m\u001b[0mscreen_buffer\u001b[0m \u001b[1;31m# Next frame\u001b[0m\u001b[1;33m\u001b[0m\u001b[1;33m\u001b[0m\u001b[0m\n\u001b[0;32m     60\u001b[0m \u001b[1;33m\u001b[0m\u001b[0m\n",
      "\u001b[1;31mViZDoomIsNotRunningException\u001b[0m: Controlled ViZDoom instance is not running or not ready."
     ]
    }
   ],
   "source": [
    "# This is a lot like what we did in the very beginning i.e. the initial tutorial\n",
    "\n",
    "for episode in range(5): # 5 games\n",
    "    obs = env.reset() # reset enviroment, store game frame in \"observations\" variable\n",
    "    done = False\n",
    "    total_reward= 0\n",
    "    while not done:\n",
    "        action, _ = model.predict(obs) # model predicts what ation to take\n",
    "        obs, reward, done, info = env.step(action) # actually take the predicted action\n",
    "        time.sleep(0.25)\n",
    "        total_reward += reward\n",
    "    print(\"Total reward for episode {} is {}\".format(episode, total_reward))\n",
    "    time.sleep(2)\n",
    "    \n",
    "# 1:50"
   ]
  },
  {
   "cell_type": "code",
   "execution_count": null,
   "metadata": {},
   "outputs": [],
   "source": [
    "# Tutorial 6 - Change Levels\n",
    "\n",
    "# He changed the levels, the logging and checkpoint paths and made sure the resolutions were low\n",
    "\n",
    "# I should get this running on gpu"
   ]
  }
 ],
 "metadata": {
  "kernelspec": {
   "display_name": "Python 3",
   "language": "python",
   "name": "python3"
  },
  "language_info": {
   "codemirror_mode": {
    "name": "ipython",
    "version": 3
   },
   "file_extension": ".py",
   "mimetype": "text/x-python",
   "name": "python",
   "nbconvert_exporter": "python",
   "pygments_lexer": "ipython3",
   "version": "3.8.3"
  }
 },
 "nbformat": 4,
 "nbformat_minor": 4
}
