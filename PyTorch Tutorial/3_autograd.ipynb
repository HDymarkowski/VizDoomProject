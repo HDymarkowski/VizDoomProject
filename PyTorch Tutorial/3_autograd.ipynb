{
 "cells": [
  {
   "cell_type": "code",
   "execution_count": 1,
   "metadata": {},
   "outputs": [],
   "source": [
    "import torch\n",
    "import numpy as np"
   ]
  },
  {
   "cell_type": "code",
   "execution_count": 3,
   "metadata": {},
   "outputs": [
    {
     "name": "stdout",
     "output_type": "stream",
     "text": [
      "tensor([1., 1., 1., 1., 1.], requires_grad=True)\n"
     ]
    }
   ],
   "source": [
    "x = torch.ones(5, requires_grad = True)\n",
    "# Tells code it will need to calcualte gradients for this tensor in later steps\n",
    "# False by default\n",
    "\n",
    "print(x)"
   ]
  },
  {
   "cell_type": "code",
   "execution_count": 14,
   "metadata": {},
   "outputs": [
    {
     "name": "stdout",
     "output_type": "stream",
     "text": [
      "tensor([0.0125, 0.2046, 0.6536], requires_grad=True)\n",
      "tensor([2.0125, 2.2046, 2.6536], grad_fn=<AddBackward0>)\n",
      "<AddBackward0 object at 0x0000020B856D5940>\n",
      "None\n",
      "None\n",
      "tensor([2.6833, 2.9394, 3.5381])\n"
     ]
    },
    {
     "name": "stderr",
     "output_type": "stream",
     "text": [
      "<ipython-input-14-b47f24829d70>:32: UserWarning: The .grad attribute of a Tensor that is not a leaf Tensor is being accessed. Its .grad attribute won't be populated during autograd.backward(). If you indeed want the .grad field to be populated for a non-leaf Tensor, use .retain_grad() on the non-leaf Tensor. If you access the non-leaf Tensor by mistake, make sure you access the leaf Tensor instead. See github.com/pytorch/pytorch/pull/30531 for more informations. (Triggered internally at C:\\actions-runner\\_work\\pytorch\\pytorch\\builder\\windows\\pytorch\\build\\aten\\src\\ATen/core/TensorBody.h:485.)\n",
      "  print(z.grad)\n",
      "<ipython-input-14-b47f24829d70>:34: UserWarning: The .grad attribute of a Tensor that is not a leaf Tensor is being accessed. Its .grad attribute won't be populated during autograd.backward(). If you indeed want the .grad field to be populated for a non-leaf Tensor, use .retain_grad() on the non-leaf Tensor. If you access the non-leaf Tensor by mistake, make sure you access the leaf Tensor instead. See github.com/pytorch/pytorch/pull/30531 for more informations. (Triggered internally at C:\\actions-runner\\_work\\pytorch\\pytorch\\builder\\windows\\pytorch\\build\\aten\\src\\ATen/core/TensorBody.h:485.)\n",
      "  print(z.grad)\n"
     ]
    }
   ],
   "source": [
    "x = torch.randn(3, requires_grad = True)\n",
    "# if later, we need to calculate the gradients of some funciton with respect to x, we set rg=T\n",
    "print(x)\n",
    "\n",
    "\n",
    "y = x + 2\n",
    "\"\"\"\n",
    "First, forward pass calculates the output y\n",
    "Since, required_grad = True, PyTorch will automatically create and store a function for us\n",
    "This function is then used in the back propogation to get the gradients\n",
    "So y has an attribute \"grad_fn\" which points to a gradient function, in this case \"AddBackwards\"\n",
    "With this function, we can calculate the gradients in the so called \"backwards path\"\n",
    "    > This will calculate the gradient of y with respect to x, in this case\n",
    "\"\"\"\n",
    "\n",
    "print(y)\n",
    "print(y.grad_fn) # AddBackwards object\n",
    "\n",
    "z = y * y * 2\n",
    "\"\"\"\n",
    "z now also has a grad_fn attribute, this time MulBackwards\n",
    "\"\"\"\n",
    "\n",
    "z = z.mean()\n",
    "\"\"\"\n",
    "now gradient function is MeanBackwards\n",
    "\"\"\"\n",
    "\n",
    "\"\"\"\n",
    "Now, the only thing that we need to do if we want to calculate gradient is call z.backward()\n",
    "\"\"\"\n",
    "\n",
    "z.backward() # Gives gradient of z wrt x i.e. dz/dx\n",
    "\n",
    "print(x.grad) # Gradients of x"
   ]
  },
  {
   "cell_type": "code",
   "execution_count": null,
   "metadata": {},
   "outputs": [],
   "source": [
    "# Sometimes you don't want autograd to track EVERY single gradient\n",
    "# We can prevent autograd for tracking certain gradients\n",
    "# 3 main ways of doing this:\n",
    "# x.requires_grad = False\n",
    "# y = x.detach()\n",
    "# with torch.no_grad():\n",
    "#     ..."
   ]
  },
  {
   "cell_type": "code",
   "execution_count": null,
   "metadata": {},
   "outputs": [],
   "source": [
    "\"\"\"\n",
    "Whenever we call the x.backward() funciton, the gradient for this tensor will be accumulated into\n",
    "the .grad attribute\n",
    "\"\"\"\n"
   ]
  },
  {
   "cell_type": "code",
   "execution_count": 17,
   "metadata": {},
   "outputs": [
    {
     "name": "stdout",
     "output_type": "stream",
     "text": [
      "tensor([3., 3., 3., 3.])\n",
      "tensor([0., 0., 0., 0.])\n",
      "tensor([3., 3., 3., 3.])\n",
      "tensor([0., 0., 0., 0.])\n"
     ]
    }
   ],
   "source": [
    "# An example\n",
    "\n",
    "weights = torch.ones(4, requires_grad = True)\n",
    "\n",
    "# Training loop\n",
    "for epoch in range(2):\n",
    "    model_output = (weights * 3).sum()\n",
    "    \n",
    "    \n",
    "    \n",
    "    model_output.backward() # We calculate gradient\n",
    "    \n",
    "    # Now we have the gradients, so we can call weights.grad\n",
    "    print(weights.grad)\n",
    "    \n",
    "    # WITHOUT \"weights.grad.zero_()\"\n",
    "    # First loop, this will be a tensor of size 4 full of 3s [3, 3, 3, 3]\n",
    "    # Second iteration, will be the same but with 6es [6, 6, 6, 6]\n",
    "    # Third iteration, will be 9s\n",
    "    # This is clearly incorrect, we must empty the gradients first before we do the next iteration and\n",
    "    # ... optimisation step\n",
    "    # We do this via weights.grad.zero_()\n",
    "    \n",
    "    weights.grad.zero_()\n",
    "    print(weights.grad)"
   ]
  }
 ],
 "metadata": {
  "kernelspec": {
   "display_name": "Python 3",
   "language": "python",
   "name": "python3"
  },
  "language_info": {
   "codemirror_mode": {
    "name": "ipython",
    "version": 3
   },
   "file_extension": ".py",
   "mimetype": "text/x-python",
   "name": "python",
   "nbconvert_exporter": "python",
   "pygments_lexer": "ipython3",
   "version": "3.8.3"
  }
 },
 "nbformat": 4,
 "nbformat_minor": 4
}
