{
 "cells": [
  {
   "cell_type": "code",
   "execution_count": 4,
   "metadata": {},
   "outputs": [
    {
     "data": {
      "text/plain": [
       "'\\nBetter way:\\n(Model must be created again with parameters)\\n\\ntorch.save(model.state_dict(), PATH) - saves parameters\\nNOTE: model.state_dict() holds parameters\\n\\nmodel = Model(*args, **kwargs)\\nmodel.load_state_dict(torch.load(PATH))\\nmodel.eval()\\n'"
      ]
     },
     "execution_count": 4,
     "metadata": {},
     "output_type": "execute_result"
    }
   ],
   "source": [
    "import torch\n",
    "import torch.nn as nn\n",
    "\"\"\"\n",
    "Lazy way:\n",
    "\n",
    "torch.save(arg, PATH)\n",
    "\n",
    "torch.load(PATH)\n",
    "mode.eval() - Set model to evaluation mde\n",
    "\"\"\"\n",
    "\n",
    "\"\"\"\n",
    "Better way:\n",
    "(Model must be created again with parameters)\n",
    "\n",
    "torch.save(model.state_dict(), PATH) - saves parameters\n",
    "NOTE: model.state_dict() holds parameters\n",
    "\n",
    "model = Model(*args, **kwargs)\n",
    "model.load_state_dict(torch.load(PATH))\n",
    "model.eval()\n",
    "\"\"\"\n",
    "\n",
    "# NOTE: kwargs = keyword argumetns i.e. the dictionary of arguments i.e. the actual argument values"
   ]
  },
  {
   "cell_type": "code",
   "execution_count": 8,
   "metadata": {},
   "outputs": [
    {
     "name": "stdout",
     "output_type": "stream",
     "text": [
      "Parameter containing:\n",
      "tensor([[-0.0917,  0.2148, -0.3338, -0.0089,  0.2943, -0.3799]],\n",
      "       requires_grad=True)\n",
      "Parameter containing:\n",
      "tensor([-0.1133], requires_grad=True)\n"
     ]
    }
   ],
   "source": [
    "class Model(nn.Module):\n",
    "    def __init__(self, n_input_features):\n",
    "        super(Model, self).__init__()\n",
    "        self.linear = nn.Linear(n_input_features, 1)\n",
    "        \n",
    "        def forward(self, x):\n",
    "            y_pred = torch.sigmoid(self.liner(x))\n",
    "            \n",
    "            return y_pred\n",
    "    \n",
    "model = Model(n_input_features = 6)\n",
    "\n",
    "# Train your model here...\n",
    "\n",
    "\n",
    "FILE = \"model.pth\" # Unreadable - serialized data\n",
    "# torch.save(model, FILE)\n",
    "\n",
    "# Load model\n",
    "model = torch.load(FILE)\n",
    "model.eval() # Set to evaluation mode\n",
    "\n",
    "for param in model.parameters():\n",
    "    print(param)"
   ]
  },
  {
   "cell_type": "code",
   "execution_count": 11,
   "metadata": {},
   "outputs": [
    {
     "name": "stdout",
     "output_type": "stream",
     "text": [
      "Parameter containing:\n",
      "tensor([[-0.0917,  0.2148, -0.3338, -0.0089,  0.2943, -0.3799]],\n",
      "       requires_grad=True)\n",
      "Parameter containing:\n",
      "tensor([-0.1133], requires_grad=True)\n"
     ]
    }
   ],
   "source": [
    "# Better way\n",
    "# Save state dict only\n",
    "# state_dict holds parameters\n",
    "\n",
    "FILE = \"model.pth\" # Unreadable - serialized data\n",
    "\n",
    "\n",
    "# torch.save(model.state_dict(), FILE)\n",
    "\n",
    "# We have to re-define model\n",
    "\n",
    "loaded_model = Model(n_input_features = 6)\n",
    "loaded_model.load_state_dict(torch.load(FILE))\n",
    "\n",
    "for param in loaded_model.parameters():\n",
    "    print(param) # Weight, bias"
   ]
  },
  {
   "cell_type": "code",
   "execution_count": 12,
   "metadata": {},
   "outputs": [
    {
     "name": "stdout",
     "output_type": "stream",
     "text": [
      "OrderedDict([('linear.weight', tensor([[-0.0917,  0.2148, -0.3338, -0.0089,  0.2943, -0.3799]])), ('linear.bias', tensor([-0.1133]))])\n"
     ]
    }
   ],
   "source": [
    "print(model.state_dict()) # weight tensor, bias tensor"
   ]
  },
  {
   "cell_type": "code",
   "execution_count": 28,
   "metadata": {},
   "outputs": [
    {
     "name": "stdout",
     "output_type": "stream",
     "text": [
      "{'state': {}, 'param_groups': [{'lr': 0.01, 'momentum': 0, 'dampening': 0, 'weight_decay': 0, 'nesterov': False, 'maximize': False, 'foreach': None, 'differentiable': False, 'params': [0, 1]}]}\n",
      "\n",
      "{'state': {}, 'param_groups': [{'lr': 0.01, 'momentum': 0, 'dampening': 0, 'weight_decay': 0, 'nesterov': False, 'maximize': False, 'foreach': None, 'differentiable': False, 'params': [0, 1]}]}\n"
     ]
    }
   ],
   "source": [
    "# Common way of saving checkpoint during training\n",
    "\n",
    "learning_rate =.01\n",
    "optimizer = torch.optim.SGD(model.parameters(), lr=learning_rate)\n",
    "\n",
    "print(optimizer.state_dict())\n",
    "\n",
    "# Say we want to save a checkpoint\n",
    "\n",
    "checkpoint = {\n",
    "    \"epoch\" : 90, # Would be a real one\n",
    "    \"model_state\" : model.state_dict(),\n",
    "    \"optim_state\" : optimizer.state_dict() # Optimizer state_dict\n",
    "}\n",
    "\n",
    "torch.save(checkpoint, \"checkpoint.pth\") # Thing, filename\n",
    "\n",
    "# Load checkpoint\n",
    "\n",
    "loaded_checkpoint = torch.load(\"checkpoint.pth\")\n",
    "\n",
    "# Now we have to set up differnt model and optmizer agiani\n",
    "\n",
    "epoch = loaded_checkpoint[\"epoch\"]\n",
    "\n",
    "model = Model(n_input_features = 6)\n",
    "optimizer = torch.optim.SGD(model.parameters(), lr=0) # Will load the correct leraning later leter\n",
    "\n",
    "model.load_state_dict(checkpoint[\"model_state\"]) # Give model state dict\n",
    "optimizer.load_state_dict(checkpoint[\"optim_state\"]) # Same with optimizer\n",
    "\n",
    "print()\n",
    "print(optimizer.state_dict())"
   ]
  },
  {
   "cell_type": "code",
   "execution_count": null,
   "metadata": {},
   "outputs": [],
   "source": [
    "# If doing training on gpu\n",
    "# Save on GPU, load on CPU\n",
    "\n",
    "# Save on GPU\n",
    "device = torch.device(\"cuda\")\n",
    "model.to(device)\n",
    "torch.save(model.state_dict(), PATH)\n",
    "\n",
    "# Load on CPU\n",
    "device = torch.device('cpu')\n",
    "model = Model(*args, **kwargs)\n",
    "model.load_state_dict(torch.load(PATH, map_location = device))"
   ]
  },
  {
   "cell_type": "code",
   "execution_count": null,
   "metadata": {},
   "outputs": [],
   "source": [
    "# If you want to save and load on GPU\n",
    "\n",
    "# Save on GPU\n",
    "device = torch.device(\"cuda\")\n",
    "model.to(device)\n",
    "torch.save(model.state_dict(), PATH)\n",
    "\n",
    "# Load on GPU\n",
    "model = Model(*args, **kwargs)\n",
    "model.model_state_dict(torch.load(PATH))\n",
    "model.to(device)"
   ]
  },
  {
   "cell_type": "code",
   "execution_count": null,
   "metadata": {},
   "outputs": [],
   "source": [
    "# Save on CPU, load on GPU\n",
    "\n",
    "# Save on CPU\n",
    "torch.save(model.state_dict(), PATH)\n",
    "\n",
    "# Load on GPU\n",
    "\n",
    "device = torch.device(\"cuda\")\n",
    "model = Model(*args, kwargs)\n",
    "model.load_state_dict(torch.load(PATH, map_location = \"cuda:0\")) # Choose whatever GPU device you want\n",
    "model.to(device)"
   ]
  }
 ],
 "metadata": {
  "kernelspec": {
   "display_name": "Python 3",
   "language": "python",
   "name": "python3"
  },
  "language_info": {
   "codemirror_mode": {
    "name": "ipython",
    "version": 3
   },
   "file_extension": ".py",
   "mimetype": "text/x-python",
   "name": "python",
   "nbconvert_exporter": "python",
   "pygments_lexer": "ipython3",
   "version": "3.8.3"
  }
 },
 "nbformat": 4,
 "nbformat_minor": 4
}
