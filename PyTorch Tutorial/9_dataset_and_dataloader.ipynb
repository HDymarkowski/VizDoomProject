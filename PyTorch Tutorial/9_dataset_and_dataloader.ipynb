{
 "cells": [
  {
   "cell_type": "code",
   "execution_count": 3,
   "metadata": {},
   "outputs": [
    {
     "name": "stdout",
     "output_type": "stream",
     "text": [
      "Collecting torchvision\n",
      "  Downloading torchvision-0.14.1-cp38-cp38-win_amd64.whl (1.1 MB)\n",
      "Requirement already satisfied: typing-extensions in c:\\users\\dell\\anaconda3\\lib\\site-packages (from torchvision) (4.4.0)\n",
      "Requirement already satisfied: pillow!=8.3.*,>=5.3.0 in c:\\users\\dell\\anaconda3\\lib\\site-packages (from torchvision) (7.2.0)\n",
      "Requirement already satisfied: torch==1.13.1 in c:\\users\\dell\\anaconda3\\lib\\site-packages (from torchvision) (1.13.1)\n",
      "Requirement already satisfied: numpy in c:\\users\\dell\\anaconda3\\lib\\site-packages (from torchvision) (1.24.1)\n",
      "Requirement already satisfied: requests in c:\\users\\dell\\anaconda3\\lib\\site-packages (from torchvision) (2.24.0)\n",
      "Requirement already satisfied: chardet<4,>=3.0.2 in c:\\users\\dell\\anaconda3\\lib\\site-packages (from requests->torchvision) (3.0.4)\n",
      "Requirement already satisfied: idna<3,>=2.5 in c:\\users\\dell\\anaconda3\\lib\\site-packages (from requests->torchvision) (2.10)\n",
      "Requirement already satisfied: urllib3!=1.25.0,!=1.25.1,<1.26,>=1.21.1 in c:\\users\\dell\\anaconda3\\lib\\site-packages (from requests->torchvision) (1.25.9)\n",
      "Requirement already satisfied: certifi>=2017.4.17 in c:\\users\\dell\\anaconda3\\lib\\site-packages (from requests->torchvision) (2020.6.20)\n",
      "Installing collected packages: torchvision\n",
      "Successfully installed torchvision-0.14.1\n"
     ]
    }
   ],
   "source": [
    "\"\"\"\n",
    "Looking at PyTorch dataset and dataloader classes\n",
    "It's a better way of looking at large datasets, by dividing samples in to smaller \"batches\"\n",
    "Amend our training loop to have another loop which loops over batches:\n",
    "    > Then we get x_batch samples and y_batch samples and do the optimisation based on those\n",
    "PyTorch can do the batch caluclations and iterations for us\n",
    "\"\"\"\n",
    "\n",
    "\"\"\"\n",
    "Terminology:\n",
    "    > Epoch = 1 forward and backward pass of ALL training samples\n",
    "    > batch_size = number of training samples in one forward and backward pass\n",
    "    > number of iterations = number of passes, each pass uing [batch_size] number of samples\n",
    "    > e.g. 100 samples, batch_size = 20 --> 100/20 = 5 iteratoins for 1 epoch\n",
    "\"\"\""
   ]
  },
  {
   "cell_type": "code",
   "execution_count": 5,
   "metadata": {},
   "outputs": [],
   "source": [
    "import torch\n",
    "import torchvision\n",
    "from torch.utils.data import Dataset, DataLoader # The important classes for htis tutorial\n",
    "import numpy as np\n",
    "import math"
   ]
  },
  {
   "cell_type": "code",
   "execution_count": 27,
   "metadata": {},
   "outputs": [
    {
     "name": "stdout",
     "output_type": "stream",
     "text": [
      "epoch, 1 / 2, step 5/45, inputs torch.Size([4, 13])\n",
      "epoch, 1 / 2, step 10/45, inputs torch.Size([4, 13])\n",
      "epoch, 1 / 2, step 15/45, inputs torch.Size([4, 13])\n",
      "epoch, 1 / 2, step 20/45, inputs torch.Size([4, 13])\n",
      "epoch, 1 / 2, step 25/45, inputs torch.Size([4, 13])\n",
      "epoch, 1 / 2, step 30/45, inputs torch.Size([4, 13])\n",
      "epoch, 1 / 2, step 35/45, inputs torch.Size([4, 13])\n",
      "epoch, 1 / 2, step 40/45, inputs torch.Size([4, 13])\n",
      "epoch, 1 / 2, step 45/45, inputs torch.Size([2, 13])\n",
      "epoch, 2 / 2, step 5/45, inputs torch.Size([4, 13])\n",
      "epoch, 2 / 2, step 10/45, inputs torch.Size([4, 13])\n",
      "epoch, 2 / 2, step 15/45, inputs torch.Size([4, 13])\n",
      "epoch, 2 / 2, step 20/45, inputs torch.Size([4, 13])\n",
      "epoch, 2 / 2, step 25/45, inputs torch.Size([4, 13])\n",
      "epoch, 2 / 2, step 30/45, inputs torch.Size([4, 13])\n",
      "epoch, 2 / 2, step 35/45, inputs torch.Size([4, 13])\n",
      "epoch, 2 / 2, step 40/45, inputs torch.Size([4, 13])\n",
      "epoch, 2 / 2, step 45/45, inputs torch.Size([2, 13])\n"
     ]
    }
   ],
   "source": [
    "# We can start implementing our own, custom dataset\n",
    "\n",
    "\"\"\"\n",
    "Dataset layout (data/wine.csv):\n",
    "    > First line is header\n",
    "    > label 1 is class column\n",
    "    > The rest of the labels are features\n",
    "We want to predict wine class based off features\n",
    "\"\"\"\n",
    "\n",
    "class WineDataset(Dataset):\n",
    "    # Implement dataset\n",
    "    def __init__(self):\n",
    "        # Data loading\n",
    "        \n",
    "        # Load data and split columns in to x and y\n",
    "        \n",
    "        xy = np.loadtxt('./data/wine.csv', delimiter = \",\", dtype=np.float32, skiprows=1)\n",
    "        # skiprows=1 skips the first row which is header (titles)\n",
    "        self.x = torch.from_numpy(xy[:, 1:]) # We want all of the samples and all columns but the first\n",
    "        self.y = torch.from_numpy(xy[:, [0]]) # We want all samples but only first column, making the\n",
    "        # ...[0]an array makes it easier for calculations later as we get the size to be (n_samples, 1)\n",
    "        self.n_samples = xy.shape[0] # First dimension is number of samples\n",
    "\n",
    "    \n",
    "    def __getitem__(self, index):\n",
    "        # Allows indexing later with like \"dataset[0]\"\n",
    "        return self.x[index], self.y[index] # Returns tuple\n",
    "        \n",
    "    def __len__(self):\n",
    "        # Allows us to call \"len(dataset)\"\"\n",
    "        return self.n_samples\n",
    "    \n",
    "\n",
    "dataset = WineDataset()\n",
    "\"\"\"\n",
    "first_data = dataset[0]\n",
    "features, labels = first_data\n",
    "print(features, labels)\n",
    "\"\"\"\n",
    "\n",
    "batchsize = 4 # The batch size for the DataLoader\n",
    "\n",
    "# Now how to use DataLoader\n",
    "dataloader = DataLoader(dataset=dataset, batch_size=batchsize, shuffle=True)\n",
    "# shuffle = True shuffles the data, good for training\n",
    "# num_workers uses more sub-processes so it might make data faster\n",
    "# ... Causes me an error for some reason, I think it might be to do with Jupyter Notebook\n",
    "\"\"\"\n",
    "# Conver to iterator\n",
    "dataiter = iter(dataloader)\n",
    "data = next(dataiter)\n",
    "# Unpack data\n",
    "features, labels = data\n",
    "print(features, labels)\n",
    "\"\"\"\n",
    "\n",
    "\n",
    "# Traiing loop\n",
    "\n",
    "num_epochs = 2\n",
    "total_samples = len(dataset) # 178\n",
    "n_iterations = math.ceil(total_samples / batchsize) # 45\n",
    "\n",
    "for epoch in range(num_epochs):\n",
    "    # SECOND LOOP, GOING OVER TRAIN LOADER\n",
    "    \n",
    "    for i, (inputs, labels) in enumerate(dataloader):\n",
    "        # Enumerate gives us index and (inputs, labels)\n",
    "        \n",
    "        # Usually would do usual loop: forward, backward, update ect\n",
    "        # This is a dummy though so we just want to print some information about batch\n",
    "        if ((i + 1) % 5 == 0):\n",
    "            print(f'epoch, {epoch+1} / {num_epochs}, step {i+1}/{n_iterations}, inputs {inputs.shape}')\n",
    "            \n",
    "\n"
   ]
  },
  {
   "cell_type": "code",
   "execution_count": 15,
   "metadata": {},
   "outputs": [
    {
     "name": "stdout",
     "output_type": "stream",
     "text": [
      "[1.000e+00 1.423e+01 1.710e+00 2.430e+00 1.560e+01 1.270e+02 2.800e+00\n",
      " 3.060e+00 2.800e-01 2.290e+00 5.640e+00 1.040e+00 3.920e+00 1.065e+03]\n"
     ]
    }
   ],
   "source": []
  }
 ],
 "metadata": {
  "kernelspec": {
   "display_name": "Python 3",
   "language": "python",
   "name": "python3"
  },
  "language_info": {
   "codemirror_mode": {
    "name": "ipython",
    "version": 3
   },
   "file_extension": ".py",
   "mimetype": "text/x-python",
   "name": "python",
   "nbconvert_exporter": "python",
   "pygments_lexer": "ipython3",
   "version": "3.8.3"
  }
 },
 "nbformat": 4,
 "nbformat_minor": 4
}
